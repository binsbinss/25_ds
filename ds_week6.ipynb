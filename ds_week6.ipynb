{
 "cells": [
  {
   "cell_type": "markdown",
   "metadata": {},
   "source": [
    "## Heap (우선순위큐)"
   ]
  },
  {
   "cell_type": "markdown",
   "metadata": {},
   "source": [
    "#### 3. 생일 데이터를 교재 코드(heap.py)를 이용해 힙으로 저장하고, 생일이 느린 순서로 10명의 친구를 출력하는 코드를 작성한다. 실행 결과가 셀에 나타나야 한다"
   ]
  },
  {
   "cell_type": "code",
   "execution_count": 2,
   "metadata": {},
   "outputs": [
    {
     "name": "stdout",
     "output_type": "stream",
     "text": [
      "생일이 늦은 친구 Top 10\n",
      "생년월일 | 이름 | 학번\n",
      "생년월일8자리(예.20040101) | 이름 | 학번\n",
      "20241282 | 홍서연 | ******82\n",
      "20051230 | 신수민 | ******22\n",
      "20051225 | 이서영 | ******42\n",
      "20051214 | 강민주 | ******69\n",
      "20051202 | 김민경 | ******78\n",
      "20051112 | 이서영 | ******41\n",
      "20051102 | 배시은 | ******17\n",
      "20051031 | 김여원 | ******87\n",
      "20051028 | 이서진 | ******44\n"
     ]
    }
   ],
   "source": [
    "class Heap:\n",
    "\tdef __init__(self, *args):\n",
    "\t\tif len(args) != 0:\n",
    "\t\t\tself.__A = args[0] # 파라미터로 온 리스트\n",
    "\t\telse:\n",
    "\t\t\tself.__A = []\n",
    " \n",
    "\t# [알고리즘 8-2] 구현: 힙에 원소 삽입하기(재귀 알고리즘 버전)\n",
    "\tdef insert(self, x):\n",
    "\t\tself.__A.append(x)\n",
    "\t\tself.__percolateUp(len(self.__A)-1)\n",
    "\n",
    "\t# 스며오르기\n",
    "\tdef __percolateUp(self, i:int):\n",
    "\t\tparent = (i - 1) // 2\n",
    "\t\tif i > 0 and self.__A[i] > self.__A[parent]:\n",
    "\t\t\tself.__A[i], self.__A[parent] = self.__A[parent], self.__A[i]\n",
    "\t\t\tself.__percolateUp(parent)\n",
    "\n",
    "\t# [알고리즘 8-2] 구현: 힙에서 원소 삭제하기\n",
    "\tdef deleteMax(self):\n",
    "\t\t# heap is in self.__A[0...len(self.__A)-1]\n",
    "\t\tif (not self.isEmpty()):\n",
    "\t\t\tmax = self.__A[0]\n",
    "\t\t\tself.__A[0] = self.__A.pop() # *.pop(): 리스트의 끝원소 삭제 후 원소 리턴\n",
    "\t\t\tself.__percolateDown(0)\n",
    "\t\t\treturn max\n",
    "\t\telse:\n",
    "\t\t\treturn None\n",
    "\n",
    "\t# 스며내리기\n",
    "\tdef __percolateDown(self, i:int):\n",
    "\t\t# Percolate down w/ self.__A[i] as the root\n",
    "\t\tchild = 2 * i + 1  # left child\n",
    "\t\tright = 2 * i + 2  # right child\n",
    "\t\tif (child <= len(self.__A)-1):\n",
    "\t\t\tif (right <= len(self.__A)-1 and self.__A[child] < self.__A[right]):\n",
    "\t\t\t\tchild = right  # index of larger child\n",
    "\t\t\tif self.__A[i] < self.__A[child]:\n",
    "\t\t\t\tself.__A[i], self.__A[child] = self.__A[child], self.__A[i]\n",
    "\t\t\t\tself.__percolateDown(child)\n",
    "\n",
    "\tdef max(self):\n",
    "\t\treturn self.__A[0]\n",
    "\n",
    "\t# 힙 만들기\n",
    "\tdef buildHeap(self):\n",
    "\t\tfor i in range((len(self.__A) - 2) // 2, -1, -1):\n",
    "\t\t\tself.__percolateDown(i)\n",
    "\n",
    "\t# 힙이 비었는지 확인하기\n",
    "\tdef isEmpty(self) -> bool:\n",
    "\t\treturn len(self.__A) == 0\n",
    "\n",
    "\tdef clear(self):\n",
    "\t\tself.__A = []\n",
    "\n",
    "\tdef size(self) -> int:\n",
    "\t\treturn len(self.__A)\n",
    "\n",
    "def load_birthdays(filepath):\n",
    "    heap = Heap()\n",
    "    with open(filepath, 'r', encoding='cp949') as f:\n",
    "        for line in f:\n",
    "            line = line.strip()\n",
    "            if not line:\n",
    "                continue\n",
    "            student_id, name, birth = line.split(',')\n",
    "            # 생일을 비교 기준으로 넣음 (문자열로 비교 가능)\n",
    "            heap.insert((birth, name, student_id))\n",
    "    return heap\n",
    "\n",
    "def print_top_10_latest_birthdays(heap):\n",
    "    print(\"생일이 늦은 친구 Top 10\")\n",
    "    print(\"생년월일 | 이름 | 학번\")\n",
    "    for _ in range(10):\n",
    "        if not heap.isEmpty():\n",
    "            birth, name, student_id = heap.deleteMax()\n",
    "            print(f\"{birth} | {name} | {student_id}\")\n",
    "        else:\n",
    "            break\n",
    "\n",
    "# 실행 부분\n",
    "if __name__ == '__main__':\n",
    "    filepath = 'birthday.csv'  \n",
    "    heap = load_birthdays(filepath)\n",
    "    print_top_10_latest_birthdays(heap)"
   ]
  },
  {
   "cell_type": "markdown",
   "metadata": {},
   "source": [
    "#### 4. 생일 데이터를 교재 코드(circularDoublyLinkedList.py)를 이용해 리스트로 저장하고, 같은 조(지난 과제 지정 조원 참조)의 친구들만 이름과 생년월일을 출력하는 코드를 작성한다. 실행 결과가 셀에 나타나야 한다. "
   ]
  },
  {
   "cell_type": "code",
   "execution_count": 7,
   "metadata": {},
   "outputs": [
    {
     "name": "stdout",
     "output_type": "stream",
     "text": [
      "3조 조원 생일\n",
      "김아린 - 20031128\n",
      "성유빈 - 20030104\n",
      "안희랑 - 20030926\n",
      "오하민 - 20050509\n",
      "이세윤 - 20040118\n",
      "이하민 - \n",
      "정승주 - 20020619\n",
      "정재윤 - 20050224\n",
      "최수안 - 20050704\n",
      "한수진 - 20040805\n"
     ]
    }
   ],
   "source": [
    "class BidirectNode:\n",
    "    def __init__(self, x, prevNode:'BidirectNode', nextNode:'BidirectNode'):\n",
    "        self.item = x\n",
    "        self.prev = prevNode\n",
    "        self.next = nextNode\n",
    "\n",
    "class CircularDoublyLinkedList:\n",
    "\tdef __init__(self):\n",
    "\t\tself.__head = BidirectNode(\"dummy\", None, None)\n",
    "\t\tself.__head.prev = self.__head\n",
    "\t\tself.__head.next = self.__head\n",
    "\t\tself.__numItems = 0\n",
    " \n",
    "\tdef insert(self, i:int, newItem) -> None:\n",
    "\t\tif (i >= 0 and i <= self.__numItems):\n",
    "\t\t\tprev = self.getNode(i - 1)\n",
    "\t\t\tnewNode = BidirectNode(newItem, prev, prev.next)\n",
    "\t\t\tnewNode.next.prev = newNode\n",
    "\t\t\tprev.next = newNode\n",
    "\t\t\tself.__numItems += 1\n",
    "\t\telse:\n",
    "\t\t\tprint(\"index\", i, \": out of bound in insert()\") # 필요 시 에러 처리\n",
    "\n",
    "\tdef append(self, newItem) -> None:\n",
    "\t\tprev = self.__head.prev\n",
    "\t\tnewNode = BidirectNode(newItem, prev, self.__head)\n",
    "\t\tprev.next = newNode\n",
    "\t\tself.__head.prev = newNode\n",
    "\t\tself.__numItems += 1\n",
    "\n",
    "\tdef pop(self, *args):\n",
    "\t\t# 가변 파라미터. 인자가 없거나 -1이면 마지막 원소로 처리하기 위함. 파이썬 리스트 규칙 만족\n",
    "\t\tif self.isEmpty():\n",
    "\t\t\treturn None\n",
    "\t\t# 인덱스 i 결정\n",
    "\t\tif len(args) != 0: # pop(k)과 같이 인자가 있으면 i = k 할당\n",
    "\t\t\ti = args[0]\n",
    "\t\tif len(args) == 0 or i == -1:# pop()에 인자가 없거나 pop(-1)이면 i에 맨 끝 인덱스 할당\n",
    "\t\t\ti = self.__numItems - 1\n",
    "\t\t# i번 원소 삭제\n",
    "\t\tif (i >= 0 and i <= self.__numItems - 1):\n",
    "\t\t\tcurr = self.getNode(i)\n",
    "\t\t\tretItem = curr.item\n",
    "\t\t\tcurr.prev.next = curr.next\n",
    "\t\t\tcurr.next.prev = curr.prev\n",
    "\t\t\tself.__numItems -= 1\n",
    "\t\t\treturn retItem\n",
    "\t\telse:\n",
    "\t\t\treturn None\n",
    " \n",
    "\tdef remove(self, x):\n",
    "\t\tcurr = self.__findNode(x)\n",
    "\t\tif curr != None:\n",
    "\t\t\tcurr.prev.next = curr.next\n",
    "\t\t\tcurr.next.prev = curr.prev\n",
    "\t\t\tself.__numItems -= 1\n",
    "\t\t\treturn x\n",
    "\t\telse:\n",
    "\t\t\treturn None\n",
    "\n",
    "\tdef get(self, *args):\n",
    "\t\t# 가변 파라미터. 인자가 없거나 -1이면 마지막 원소로 처리하기 위함. 파이썬 리스트 규칙 만족\n",
    "\t\tif self.isEmpty(): return None\n",
    "\t\t# 인덱스 i 결정\n",
    "\t\tif len(args) != 0:   # pop(k)과 같이 인자가 있으면 i = k 할당\n",
    "\t\t\ti = args[0]\n",
    "\t\tif len(args) == 0 or i == -1:# pop()에 인자가 없거나 pop(-1)이면 i에 맨 끝 인덱스 할당\n",
    "\t\t\ti = self.__numItems - 1\n",
    "\t\t# i번 원소 리턴\n",
    "\t\tif (i >= 0 and i <= self.__numItems - 1):\n",
    "\t\t\treturn self.getNode(i).item\n",
    "\t\telse:\n",
    "\t\t\treturn None\n",
    " \n",
    "\tdef index(self, x) -> int:\n",
    "\t\tcnt = 0\n",
    "\t\tfor element in self:\n",
    "\t\t\tif element == x:\n",
    "\t\t\t\treturn cnt\n",
    "\t\t\tcnt += 1\n",
    "\t\treturn -12345\n",
    "\n",
    "\tdef isEmpty(self) -> bool:\n",
    "\t\treturn self.__numItems == 0\n",
    " \n",
    "\tdef size(self) -> int:\n",
    "\t\treturn self.__numItems\n",
    "\n",
    "\tdef clear(self):\n",
    "\t\tself.__head = BidirectNode(\"dummy\", None, None)\n",
    "\t\tself.__head.prev = self.__head\n",
    "\t\tself.__head.next = self.__head\n",
    "\t\tself.__numItems = 0\n",
    " \n",
    "\tdef count(self, x) -> int:\n",
    "\t\tcnt = 0\n",
    "\t\tfor element in self:\n",
    "\t\t\tif element == x:\n",
    "\t\t\t\t\tcnt += 1\n",
    "\t\treturn cnt\n",
    "\n",
    "\tdef extend(self, a): # a는 순회 가능한 모든 객체\n",
    "\t\tfor element in a:\n",
    "\t\t\tself.append(element)\n",
    "\n",
    "\tdef copy(self) -> 'CircularDoublyLinkedList':\n",
    "\t\ta = CircularDoublyLinkedList()\n",
    "\t\tfor element in self:\n",
    "\t\t\ta.append(element)\n",
    "\t\treturn a\n",
    " \n",
    "\tdef reverse(self) -> None:\n",
    "\t\tprev = self.__head; curr = prev.next; next = curr.next\n",
    "\t\tself.__head.next = prev.prev; self.__head.prev = curr\n",
    "\t\tfor i in range(self.__numItems):\n",
    "\t\t\tcurr.next = prev; curr.prev = next\n",
    "\t\t\tprev = curr; curr = next; next = next.next\n",
    " \n",
    "\tdef sort(self) -> None:\n",
    "\t\ta = []\n",
    "\t\tfor element in self:\n",
    "\t\t\ta.append(element)\n",
    "\t\ta.sort()\n",
    "\t\tself.clear()\n",
    "\t\tfor element in a:\n",
    "\t\t\tself.append(element)\n",
    "\n",
    "\tdef __findNode(self, x) -> BidirectNode:\n",
    "\t\tcurr = self.__head.next  # 0번 노드\n",
    "\t\twhile curr != self.__head:\n",
    " \n",
    "\t\t\tif curr.item == x:\n",
    "\t\t\t\treturn curr\n",
    "\t\t\telse:\n",
    "\t\t\t\tcurr = curr.next\n",
    "\t\treturn None\n",
    "\n",
    "\tdef getNode(self, i:int) -> BidirectNode:\n",
    "\t\tcurr = self.__head  # 더미 헤드, index: -1\n",
    "\t\tfor index in range(i + 1):\n",
    "\t\t\tcurr = curr.next\n",
    "\t\treturn curr\n",
    "\n",
    "\tdef printList(self) -> None:\n",
    "\t\tfor element in self:\n",
    "\t\t\tprint(element, end = ' ')\n",
    "\t\tprint()\n",
    " \n",
    "\tdef __iter__(self):  # generating iterator and return\n",
    "\t\treturn CircularDoublyLinkedListIterator(self)\n",
    " \n",
    "class CircularDoublyLinkedListIterator:\n",
    "\tdef __init__(self, alist):\n",
    "\t\tself.__head = alist.getNode(-1)  \t\t# 더미 헤드\n",
    "\t\tself.iterPosition = self.__head.next  \t# 0번 노드\n",
    "\tdef __next__(self):\n",
    "\t\tif self.iterPosition == self.__head: \t# 순환 끝\n",
    "\t\t\traise StopIteration\n",
    "\t\telse: # 현재 원소를 리턴하면서 다음 원소로 이동\n",
    "\t\t\titem = self.iterPosition.item\n",
    "\t\t\tself.iterPosition = self.iterPosition.next\n",
    "\t\t\treturn item\n",
    "\n",
    "\n",
    "class Student:\n",
    "    def __init__(self, student_id, name, birthday):\n",
    "        self.student_id = student_id\n",
    "        self.name = name\n",
    "        self.birthday = birthday\n",
    "\n",
    "    def __str__(self):\n",
    "        return f\"{self.name} - {self.birthday}\"\n",
    "\n",
    "same_group_names = {\n",
    "    '최수안', '오하민', '정승주', '이세윤', '이하민',\n",
    "    '한수진', '성유빈', '안희랑', '정재윤', '김아린'\n",
    "}\n",
    "\n",
    "# CSV에서 데이터를 읽고 리스트에 저장\n",
    "def load_birthdays_to_list(filepath):\n",
    "    clist = CircularDoublyLinkedList()\n",
    "    with open(filepath, 'r', encoding='cp949') as f:\n",
    "        for line in f:\n",
    "            line = line.strip()\n",
    "            if not line:\n",
    "                continue\n",
    "            student_id, name, birthday = line.split(',')\n",
    "            student = Student(student_id, name, birthday)\n",
    "            clist.append(student)\n",
    "    return clist\n",
    "\n",
    "# 조원만 출력\n",
    "def print_same_group_birthdays(clist, same_group_names):\n",
    "    print(\"3조 조원 생일\")\n",
    "    for student in\tclist:\n",
    "        if student.name in same_group_names:\n",
    "            print(f\"{student.name} - {student.birthday}\")\n",
    "\n",
    "# 실행 코드\n",
    "if __name__ == '__main__':\n",
    "    filepath = 'birthday.csv'  \n",
    "    clist = load_birthdays_to_list(filepath)\n",
    "    print_same_group_birthdays(clist, same_group_names)\n"
   ]
  },
  {
   "cell_type": "markdown",
   "metadata": {},
   "source": [
    "### 5. 교재 8장 우선 순위 큐 연습문제"
   ]
  },
  {
   "cell_type": "markdown",
   "metadata": {},
   "source": [
    "##### 1. 최대 힙에서는 가장 큰 원소가 항상 루트에 있다. 즉, 루트의 깊이가 가장 얕다. 임의의 최대 힙에서 더 얕은 곳에 있는 원소가 더 깊은 곳에 있는 원소보다 더 작은 값을 가질 수 있는가?"
   ]
  },
  {
   "cell_type": "markdown",
   "metadata": {},
   "source": [
    "- 가질 수 없다. 최대힙의 정의는 부모노드가 항상 자식노드보다 크거나 같다. 따라서 더 얕은 곳(트리의 상단)에 있는 원소가 더 깊은 곳(트리의 하단)에 있는 원소보다 더 큰 값을 가져야한다. "
   ]
  },
  {
   "cell_type": "markdown",
   "metadata": {},
   "source": [
    "#### 2. 최대 힙 A[0,,,n-1]에서 A[0]는 항상 가장 큰 값을 갖고 있다. 반대로 마지막 원소인 A[n-1]은 항상 가장 작은 값을 갖는가?"
   ]
  },
  {
   "cell_type": "markdown",
   "metadata": {},
   "source": [
    "- 아니다. 최대 힙은 완전이진트리 구조를 배열로 저장한 것이기 때문에 마지막 원소는 단지 가장 마지막에 삽입된 노드가 위치한 자리일 뿐이다. 힙은 전체 정렬이 보장되지 않고, 부모노드가 자식노드보다 크거나 같은 조건만 만족하면 되기 때문에 꼭 가장 작은 값이 마지막 인덱스에 위치하는 것은 아니다."
   ]
  },
  {
   "cell_type": "markdown",
   "metadata": {},
   "source": [
    "#### 3. 임의의 리스트 A[0,,,n-1]을 힙으로 만드는 buildHeap() 알고리즘에서 총 n개의 원소 중 루트의 자격으로 스며내리기를 할지 알아보지 않고 그냥 넘어가는 원소(힙의 노드) 수는 정확하게 몇개인가?"
   ]
  },
  {
   "cell_type": "markdown",
   "metadata": {},
   "source": [
    "- n/2개. buildHeap() 알고리즘에서 스며내리기를 하지 않는 노드는 리프 노드들로 n/2개이다. 자식이 없어 스며내릴 필요가 없기 때문에 buildHeap()을 할 때는 앞쪽 n/2개의 노드만 스며내리기 하면 된다."
   ]
  },
  {
   "cell_type": "markdown",
   "metadata": {},
   "source": [
    "#### 4. 리스트 A[0,,,n-1]을 대상으로 하는 스며내리기 알고리즘에서 최악의 경우에 해당하는 시간과 최선의 경우에 해당하는 시간은 어떻게 되는기? 빅세타 표기로 나타내시오."
   ]
  },
  {
   "cell_type": "markdown",
   "metadata": {},
   "source": [
    "- 최선의 경우 : 정렬이 된 상태로 한 번도 이동을 안함 -> Θ(1)\n",
    "- 최악의 경우 : 루트부터 리프노드까지 끝까지 내려가야 하는 경우 -> Θ(log n)"
   ]
  },
  {
   "cell_type": "markdown",
   "metadata": {},
   "source": [
    "#### 5. 힙인 상태에서 원소 삭제는 루트 노드만 대상으로 한다. 다른 경우는 존재하지 않는다. 테스트 목적으로 힙의 맨 마지막 원소를 삭제하는 작업을 요구한다면 간단한 일인가?"
   ]
  },
  {
   "cell_type": "markdown",
   "metadata": {},
   "source": [
    "- 힙의 루트 노드를 삭제하는 경우에는 재정렬을 위한 스며내리기가 필요하지만 힙의 맨 마지막 원소는 배열의 끝에 위치하므로 단순히 pop()만으로 삭제할 수 있다. 따라서 테스트 목적 등으로 마지막 원소를 삭제하는 것은 매우 간단한 작업이다."
   ]
  },
  {
   "cell_type": "markdown",
   "metadata": {},
   "source": [
    "#### 6. 어떤 학생이 다음과 같은 질문을 했다. buildHeap() 알고리즘에서는 아래쪽에서부터 시작해서 스며내리기를 반복하는데 만약 반대 방향으로 하면 어떤가요? (즉, 위쪽에서부터 시작해서 스며오르기를 반복) 이렇게 해도 힙이 만들어진다. 이 방법은 본문에 제시한 방법에 비해 더 효율적인가? 점근적 시간으로 말하시오."
   ]
  },
  {
   "cell_type": "markdown",
   "metadata": {},
   "source": [
    "- 스며올리기를 반복하는 방식도 힙을 만들 수는 있지만, 이 경우 삽입마다 O(log n)의 시간이 걸려 전체 시간 복잡도는 O(n log n)이 된다. 반면 본문에서 제시한 스며내리기 방식은 전체 노드의 깊이를 고려한 최적화 덕분에 Θ(n) 시간만에 힙을 만들 수 있으므로 더 효율적인 방법이다."
   ]
  },
  {
   "cell_type": "markdown",
   "metadata": {},
   "source": [
    "#### 7. n개의 원소로 이루어진 최대 힙에서 임의의 원소 값이 증가했을 떄 O(log n)시간에 이를 반영해서 힙을 수선할 수 있다. 어떻게 하면 되는지 그 과정을 기술하시오."
   ]
  },
  {
   "cell_type": "markdown",
   "metadata": {},
   "source": [
    "- 최대 힙에서 임의의 원소의 값이 증가한 경우, 해당 노드를 부모와 반복적으로 비교하며 더 크면 서로 교환하는 방식(스며올리기)을 적용한다. 이 과정을 루트까지 반복하면 힙의 성질이 다시 만족되며 전체 시간 복잡도는 O(log n)이다."
   ]
  },
  {
   "cell_type": "markdown",
   "metadata": {},
   "source": [
    "### 6. LeetCode 703.Kth Largest Element in Stream"
   ]
  },
  {
   "cell_type": "code",
   "execution_count": 10,
   "metadata": {},
   "outputs": [
    {
     "name": "stdout",
     "output_type": "stream",
     "text": [
      "4\n",
      "5\n",
      "5\n",
      "8\n",
      "8\n"
     ]
    }
   ],
   "source": [
    "import heapq\n",
    "\n",
    "class KthLargest:\n",
    "\n",
    "    def __init__(self, k: int, nums: list[int]):\n",
    "        self.k = k\n",
    "        self.heap = nums\n",
    "        heapq.heapify(self.heap)\n",
    "\n",
    "        # 힙의 크기를 k개로 유지 (k개보다 작으면 pop)\n",
    "        while len(self.heap) > k:\n",
    "            heapq.heappop(self.heap)\n",
    "\n",
    "    def add(self, val: int) -> int:\n",
    "        heapq.heappush(self.heap, val)\n",
    "\n",
    "        # k개보다 많아지면 제일 작은 거 제거\n",
    "        if len(self.heap) > self.k:\n",
    "            heapq.heappop(self.heap)\n",
    "\n",
    "        # k번째로 큰 값은 항상 힙의 루트\n",
    "        return self.heap[0]\n",
    "    \n",
    "kth = KthLargest(3, [4, 5, 8, 2])\n",
    "print(kth.add(3))  \n",
    "print(kth.add(5)) \n",
    "print(kth.add(10)) \n",
    "print(kth.add(9))  \n",
    "print(kth.add(4))  "
   ]
  }
 ],
 "metadata": {
  "kernelspec": {
   "display_name": "base",
   "language": "python",
   "name": "python3"
  },
  "language_info": {
   "codemirror_mode": {
    "name": "ipython",
    "version": 3
   },
   "file_extension": ".py",
   "mimetype": "text/x-python",
   "name": "python",
   "nbconvert_exporter": "python",
   "pygments_lexer": "ipython3",
   "version": "3.12.4"
  }
 },
 "nbformat": 4,
 "nbformat_minor": 2
}
