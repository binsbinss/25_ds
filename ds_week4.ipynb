{
 "cells": [
  {
   "cell_type": "markdown",
   "metadata": {},
   "source": [
    "# 1. Leetcode 225\n",
    "## Implement Stack using Queues (큐를 이용해 스택 구현하기)\n",
    "\n",
    "오직 큐만 사용 가능 (예: append, popleft, isEmpty, size, 등)\n",
    "- 큐는 한 개 또는 두 개 사용할 수 있어\n",
    "- 모든 연산은 정상적으로 동작해야 함 (push, pop, top, empty)\n",
    "\n",
    "구현해야할 기능 :\n",
    "1.\tpush(x) : 스택에 정수 x를 넣기\n",
    "2.\tpop() : 스택의 top 요소 제거하고 반환\t\n",
    "3.\ttop() : 스택의 top 요소를 반환\n",
    "4.\tempty() : 스택이 비었는지 확인"
   ]
  },
  {
   "cell_type": "code",
   "execution_count": null,
   "metadata": {},
   "outputs": [],
   "source": [
    "from collections import deque\n",
    "\n",
    "class MyStack:\n",
    "\n",
    "    def __init__(self):\n",
    "        self.q = deque()\n",
    "\n",
    "    def push(self, x: int) -> None:\n",
    "        self.q.append(x)\n",
    "        for _ in range(len(self.q) - 1):\n",
    "            self.q.append(self.q.popleft())\n",
    "\n",
    "    def pop(self) -> int:\n",
    "        return self.q.popleft()\n",
    "\n",
    "    def top(self) -> int:\n",
    "        return self.q[0]\n",
    "\n",
    "    def empty(self) -> bool:\n",
    "        return not self.q"
   ]
  },
  {
   "cell_type": "markdown",
   "metadata": {},
   "source": [
    "# 2. LeetCode 232\n",
    "## Implement Queue using Stacks (스택을 이용해 큐 구현하기)\n",
    "제약사항 :\n",
    "- 오직 스택만 사용 가능\n",
    "- 즉 append, pop 만 써야 함\n",
    "- 스택은 여러 개 사용 가능 (보통 2개 씀)\n",
    "\n",
    "구현해야할 기능 :\n",
    "1.\tpush(x) → 큐 뒤에 x를 추가\n",
    "2.\tpop() → 큐 앞에서 요소 제거 및 반환\n",
    "3.\tpeek() → 큐 앞 요소 반환 (삭제는 안 함)\n",
    "4.\tempty() → 큐가 비었는지 확인"
   ]
  },
  {
   "cell_type": "code",
   "execution_count": null,
   "metadata": {},
   "outputs": [],
   "source": [
    "from collections import deque\n",
    "\n",
    "class MyStack:\n",
    "\n",
    "    def __init__(self):\n",
    "        self.q = deque()\n",
    "\n",
    "    def push(self, x: int) -> None:\n",
    "        self.q.append(x)\n",
    "        for _ in range(len(self.q) - 1):\n",
    "            self.q.append(self.q.popleft())\n",
    "\n",
    "    def pop(self) -> int:\n",
    "        return self.q.popleft()\n",
    "\n",
    "    def top(self) -> int:\n",
    "        return self.q[0]\n",
    "\n",
    "    def empty(self) -> bool:\n",
    "        return not self.q"
   ]
  },
  {
   "cell_type": "markdown",
   "metadata": {},
   "source": [
    "# 3. 큐 연습문제 풀이"
   ]
  },
  {
   "cell_type": "markdown",
   "metadata": {},
   "source": [
    "#### 01. 리스트의 맨 끝을 큐의 front로, 리스트의 맨 앞을 큐의 tail로 간주하여 다음 listQueue.py 코드를 바꾸어보시오"
   ]
  },
  {
   "cell_type": "code",
   "execution_count": null,
   "metadata": {},
   "outputs": [],
   "source": [
    "class ListQueue:\n",
    "    def __init__(self):\n",
    "        self._queue = []\n",
    "\n",
    "    def enqueue(self, x):\n",
    "        self._queue.insert(0, x)\n",
    "\n",
    "    def dequeue(self):\n",
    "        return self._queue.pop()\n",
    "    \n",
    "    def front(self):\n",
    "        return self._queue[-1]\n",
    "    \n",
    "    def isEmpty(self) -> bool:\n",
    "        return len(self._queue) == 0\n",
    "    \n",
    "    def dequeueAll(self):\n",
    "        self._queue.clear()"
   ]
  },
  {
   "cell_type": "markdown",
   "metadata": {},
   "source": [
    "#### 02. 입력으로 들어온 문자열이 다음 집합의 원소인지 체크하는 코드를 큐를 이용해서 작성하시오"
   ]
  },
  {
   "cell_type": "code",
   "execution_count": 1,
   "metadata": {},
   "outputs": [
    {
     "name": "stdout",
     "output_type": "stream",
     "text": [
      "True\n",
      "False\n"
     ]
    }
   ],
   "source": [
    "from collections import deque\n",
    "\n",
    "def is_palindrome(s: str) -> bool:\n",
    "    q = deque()\n",
    "\n",
    "    if '$' not in s:\n",
    "        return False\n",
    "    left, right = s.split('$')\n",
    "\n",
    "    for ch in left:\n",
    "        q.append(ch)\n",
    "\n",
    "    for ch in right:\n",
    "        if not q or q.pop()!=ch:\n",
    "            return False\n",
    "    \n",
    "    return len(q) == 0\n",
    "\n",
    "print(is_palindrome(\"dfgd$dgfd\"))\n",
    "print(is_palindrome(\"1234$1234\"))"
   ]
  },
  {
   "cell_type": "markdown",
   "metadata": {},
   "source": [
    "#### 03. LinkedQueue 타입의 객체 a의 내용을 그대로 또 다른 LinkedQueue 타입의 객체 b로 복사하는 코드 작성하시오"
   ]
  },
  {
   "cell_type": "code",
   "execution_count": null,
   "metadata": {},
   "outputs": [],
   "source": [
    "def copyQueue(a, b):\n",
    "    temp = LinkedQueue()\n",
    "\n",
    "    while not a.isEmpty():\n",
    "        data = a.dequeue()\n",
    "        b.enqueue(data)\n",
    "        temp.enqueue(data)\n",
    "\n",
    "    while not temp.isEmpty():\n",
    "        a.enqueue(temp.dequeue())"
   ]
  },
  {
   "cell_type": "markdown",
   "metadata": {},
   "source": [
    "#### 04. 비효율적이지만 2개의 큐를 사용해 스택의 push()와 pop() 알고리즘을 작성하시오"
   ]
  },
  {
   "cell_type": "code",
   "execution_count": 2,
   "metadata": {},
   "outputs": [],
   "source": [
    "from collections import deque\n",
    "\n",
    "class StackWithqueues:\n",
    "    def __init__(self):\n",
    "        self.q1 = deque()\n",
    "        self.q2 = deque()\n",
    "    \n",
    "    def push(self, x):\n",
    "        self.q1.append(x)\n",
    "    \n",
    "    def pop(self):\n",
    "        while len(self.q1)>1:\n",
    "            self.q2.append(self.q1.popleft())\n",
    "\n",
    "        val = self.q1.popleft()\n",
    "        self.q1, self.q2 = self.q2, self.q1\n",
    "        return val"
   ]
  },
  {
   "cell_type": "markdown",
   "metadata": {},
   "source": [
    "#### 05. 역시 비효율적이지만 2개의 스택을 사용해 큐의 enqueue()와 dequeue() 알고리즘을 작성하시오"
   ]
  },
  {
   "cell_type": "code",
   "execution_count": null,
   "metadata": {},
   "outputs": [],
   "source": [
    "class QueueWithstacks:\n",
    "    def __init__(self):\n",
    "        self.stack1 = []\n",
    "        self.stack2 = []\n",
    "    \n",
    "    def enqueue(self, x):\n",
    "        self.stack1.append(x)\n",
    "\n",
    "    def dequeue(self):\n",
    "        if not self.stack2:\n",
    "            while self.stack1:\n",
    "                self.stack2.append(self.stack1.pop())\n",
    "        return self.stack2.pop()"
   ]
  },
  {
   "cell_type": "markdown",
   "metadata": {},
   "source": [
    "#### 06. 큐의 사이즈가 n일 때 코드 [7-13]의 클래스 환경에서 이를 가장 효율적으로 구현했을 때, enqueue(), dequeue()의 수행시간은 각각 어떻게 되는가?"
   ]
  },
  {
   "cell_type": "markdown",
   "metadata": {},
   "source": [
    "- 코드 7-13처럼 CircularLinkedList를 사용해서 큐를 구현하면, enqueue()는 맨 뒤에 요소를 추가하는 작업이고 dequeue()는 큐의 맨앞에서 요소를 제거하는 작업이다. [7-13] 경우에는 큐의 크기가 n이더라도 두 작업 모두 상수 시간, 즉 O(1)의 수행시간이 소요된다."
   ]
  },
  {
   "cell_type": "markdown",
   "metadata": {},
   "source": [
    "#### 07. 6번 문제의 deque을 원형 연결 리스트가 아닌 LinkedListBasic 객체를 사용한다면 enqueue()와 dequeue()의 수행 시간은 각각 어떻게 되는가?"
   ]
  },
  {
   "cell_type": "markdown",
   "metadata": {},
   "source": [
    "- LinkedListBasic을 사용하여 큐를 구현하면 dequeue()는 큐의 맨 앞의 요소를 제거하는 작업이므로 O(1),\n",
    "enqueue()는 큐의 맨 뒤 요소를 추가해야하므로 리스트의 끝까지 이동해야하기 때문에 O(n)의 수행시간이 소요된다."
   ]
  },
  {
   "cell_type": "markdown",
   "metadata": {},
   "source": [
    "#### 08. 클래스 listQueue의 파이썬 코드를 Deque을 구현하는 클래스로 바꾸어보시오."
   ]
  },
  {
   "cell_type": "code",
   "execution_count": null,
   "metadata": {},
   "outputs": [],
   "source": [
    "class Deque:\n",
    "    def __init__(self):\n",
    "        self.__queue = []\n",
    "\n",
    "    # 뒤쪽에 삽입 (기존 enqueue)\n",
    "    def addRear(self, x):\n",
    "        self.__queue.append(x)\n",
    "\n",
    "    # 앞쪽에 삽입\n",
    "    def addFront(self, x):\n",
    "        self.__queue.insert(0, x)\n",
    "\n",
    "    # 앞쪽에서 삭제 (기존 dequeue)\n",
    "    def deleteFront(self):\n",
    "        if self.isEmpty():\n",
    "            return None\n",
    "        return self.__queue.pop(0)\n",
    "\n",
    "    # 뒤쪽에서 삭제\n",
    "    def deleteRear(self):\n",
    "        if self.isEmpty():\n",
    "            return None\n",
    "        return self.__queue.pop()\n",
    "\n",
    "    # 앞쪽 값 확인\n",
    "    def peekFront(self):\n",
    "        if self.isEmpty():\n",
    "            return None\n",
    "        return self.__queue[0]\n",
    "\n",
    "    # 뒤쪽 값 확인\n",
    "    def peekRear(self):\n",
    "        if self.isEmpty():\n",
    "            return None\n",
    "        return self.__queue[-1]\n",
    "\n",
    "    # 비었는지 확인\n",
    "    def isEmpty(self) -> bool:\n",
    "        return len(self.__queue) == 0\n",
    "\n",
    "    # 전체 삭제\n",
    "    def clear(self):\n",
    "        self.__queue.clear()"
   ]
  }
 ],
 "metadata": {
  "kernelspec": {
   "display_name": "Python 3",
   "language": "python",
   "name": "python3"
  },
  "language_info": {
   "codemirror_mode": {
    "name": "ipython",
    "version": 3
   },
   "file_extension": ".py",
   "mimetype": "text/x-python",
   "name": "python",
   "nbconvert_exporter": "python",
   "pygments_lexer": "ipython3",
   "version": "3.11.11"
  }
 },
 "nbformat": 4,
 "nbformat_minor": 2
}
